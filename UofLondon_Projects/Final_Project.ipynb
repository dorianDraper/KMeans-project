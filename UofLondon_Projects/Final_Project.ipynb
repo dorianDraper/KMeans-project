{
 "cells": [
  {
   "cell_type": "markdown",
   "metadata": {},
   "source": [
    "<h1 style=\"Comic Sans MS; text-align: center; color: #FFC300\">Final Project</h1>\n",
    "<h3 id=\"step1\" style=\"font-family: Comic Sans MS; color: #68FF33\">1. Exploratory Data Analysis</h3>\n",
    "<p style=\"color: pink\">The goals of the exploratory data analysis are:</p>\n",
    "<ul style=\"color: pink\">\n",
    "    <li>to better understand the data,</li>\n",
    "    <li>to evaluate if the given dataset is suitable for the K-Means clustering task.</li>\n",
    "</ul>\n",
    "<p style=\"color: pink\">We need to:</p>\n",
    "<ol style=\"color: pink\">\n",
    "    <li>Load the given Banknote authentication dataset.</li>\n",
    "    <li>Calculate statistical measures, e.g. mean and standard deviation.</li>\n",
    "    <li>Visualise the data as we consider fit.</li>\n",
    "    <li>Evaluate if the given dataset is suitable for the K-Means clustering task.</li>\n",
    "    <li>Write a short description of the dataset and our evaluation of its suitability for the K-Means clustering task.</li>\n",
    "</ol>"
   ]
  }
 ],
 "metadata": {
  "language_info": {
   "name": "python"
  }
 },
 "nbformat": 4,
 "nbformat_minor": 2
}
